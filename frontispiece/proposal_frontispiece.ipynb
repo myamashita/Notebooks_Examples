{
 "cells": [
  {
   "cell_type": "code",
   "execution_count": 1,
   "metadata": {
    "scrolled": true
   },
   "outputs": [
    {
     "data": {
      "application/vnd.jupyter.widget-view+json": {
       "model_id": "03b4cf841a6245fbba4b17c5137f50ad",
       "version_major": 2,
       "version_minor": 0
      },
      "text/plain": [
       "Canvas(toolbar=Toolbar(toolitems=[('Home', 'Reset original view', 'home', 'home'), ('Back', 'Back to previous …"
      ]
     },
     "metadata": {},
     "output_type": "display_data"
    }
   ],
   "source": [
    "#SETUP###############################################################\n",
    "#Location to plot in map 1- Longitude 2- Latitude 3- Name of location\n",
    "points = [(-87.94, 29.11, 'Marlin TLP'),\n",
    "          (-87.5, 28.5, 'test')]\n",
    "plot_point = True\n",
    "#####################################################################\n",
    "%matplotlib widget\n",
    "import numpy as np\n",
    "import cartopy.crs as ccrs\n",
    "import cartopy.feature as cfeature\n",
    "import cartopy.io.img_tiles as cimgt\n",
    "import matplotlib.pyplot as plt\n",
    "from matplotlib.offsetbox import AnnotationBbox, AnchoredText, OffsetImage\n",
    "plt.rcParams['font.sans-serif'] = \"Segoe ui\"\n",
    "projection = ccrs.PlateCarree()\n",
    "\n",
    "url1 = 'https://server.arcgisonline.com/arcgis/rest/services/Ocean/World_Ocean_Reference/MapServer/tile/{z}/{y}/{x}'\n",
    "image1 = cimgt.GoogleTiles(url=url1, desired_tile_form=\"RGBA\")\n",
    "p = image1.crs\n",
    "fig, ax = plt.subplots(figsize=(6.7, 4.7), dpi=110, subplot_kw={\"projection\": p})\n",
    "dx = 325 / (111.12 * np.cos(np.deg2rad(points[0][1])))\n",
    "ax.set_extent([points[0][0] - dx, points[0][0] + dx, points[0][1] - 1.6, points[0][1] + 1.6])\n",
    "\n",
    "base_uri = 'https://server.arcgisonline.com/arcgis/rest/services/Ocean/World_Ocean_Base/MapServer/WMTS?'\n",
    "base_uri2 = \"https://server.arcgisonline.com/arcgis/rest/services/Ocean/World_Ocean_Reference/MapServer/WMTS?\"\n",
    "layer_name = 'Ocean_World_Ocean_Base'\n",
    "layer_name2 = 'Ocean_World_Ocean_Reference'\n",
    "ax.add_wmts(base_uri, layer_name=layer_name, )\n",
    "ax.add_wmts(base_uri2, layer_name=layer_name2)\n",
    "\n",
    "#Add map sources\n",
    "SOURCE = 'Esri, GEBCO, NOAA, National Geographic, Garmin, HERE, Geonames.org, NGDC, and other contributors'\n",
    "text = AnchoredText(SOURCE, loc=4, prop={'size': 6}, frameon=False)\n",
    "ax.add_artist(text)\n",
    "\n",
    "#Plot point and name\n",
    "if plot_point:\n",
    "    [plt.plot(i[0], i[1], transform=projection, marker='o', c='red', ms=6) for i in points]\n",
    "    [ax.text(i[0] + .15, i[1] + .15, i[2], transform=projection, c='k',\n",
    "            size=11, bbox=dict(boxstyle=\"round\", ec='#121212', fc='#fadede', alpha=0.7)) for i in points]"
   ]
  },
  {
   "cell_type": "code",
   "execution_count": 2,
   "metadata": {},
   "outputs": [],
   "source": [
    "# Savefig\n",
    "extent = list(ax.get_extent(crs=ccrs.PlateCarree()))\n",
    "ax.set_extent(extent, crs=ccrs.PlateCarree())\n",
    "xc, yc = p.transform_point(np.mean(extent[:2]), np.mean(extent[2:]), projection)\n",
    "#add Fugro Logo\n",
    "im_box = OffsetImage(plt.imread('Logo wordmark_RGB_EN_QB.png'), zoom=.015)\n",
    "ab = AnnotationBbox(im_box, (xc, yc), (0.12, .87), 'data', \"axes fraction\", False, 0.1)\n",
    "ax.add_artist(ab)\n",
    "#Add compass image\n",
    "im_box = OffsetImage(plt.imread('compass2.png'), zoom=.035)\n",
    "ab = AnnotationBbox(im_box, (xc, yc), (0.94, .89), 'data', \"axes fraction\", False, 0.1)\n",
    "ax.add_artist(ab)\n",
    "#Make tmc horizontally centred on the middle of the map,\n",
    "tmc = ccrs.TransverseMercator(np.mean(extent[:2]), np.mean(extent[2:]), approx=True)\n",
    "#Get the extent of the plotted area in coordinates in metres\n",
    "x0, x1, y0, y1 = ax.get_extent(tmc)\n",
    "#Turn the specified scalebar location into coordinates in metres\n",
    "sbx_le = x0 + (x1 - x0) * 0.05 #Generate the x coordinate for the ends of the scalebar\n",
    "sbx_mi = sbx_le + 50000 #scale bar x position 50 kilometer\n",
    "sbx_ri = sbx_le + 92600 #scale bar x position 50 nautical miles\n",
    "sby_top = y0 + (y1 - y0) * 0.06  #scale bar y position top\n",
    "sby_mid = y0 + (y1 - y0) * 0.05 #scale bar y position center\n",
    "sby_bot = y0 + (y1 - y0) * 0.01  #scale bar y position bottom\n",
    "#Plot the scalebar\n",
    "ax.plot([sbx_le, sbx_mi], [sby_mid, sby_mid], transform=tmc, c='k', lw=1, marker=2, ms=7)\n",
    "ax.plot([sbx_le, sbx_ri], [sby_mid, sby_mid], transform=tmc, c='k', lw=1, marker=3, ms=7)\n",
    "#Plot the scalebar label\n",
    "ax.text((sbx_le + sbx_mi)/2, sby_top, '50 km', transform=tmc, c='k', size=6, ha='center', va='bottom')\n",
    "ax.text((sbx_le + sbx_ri)/2, sby_bot, '50 nm', transform=tmc, c='k', size=6, ha='center', va='bottom')\n",
    "#add gridlines\n",
    "gl = ax.gridlines(draw_labels=True, edgecolor='gray', linewidth=.75, linestyle=':')\n",
    "gl.xlabel_style = {'size': 11,}\n",
    "gl.ylabel_style = {'size': 11,}\n",
    "#savefig\n",
    "fig.savefig('proposal_frontispiece.png', dpi=110, bbox_inches='tight',)"
   ]
  },
  {
   "cell_type": "code",
   "execution_count": null,
   "metadata": {},
   "outputs": [],
   "source": []
  }
 ],
 "metadata": {
  "kernelspec": {
   "display_name": "Python 3.8.3 64-bit ('base': conda)",
   "language": "python",
   "name": "python383"
  },
  "language_info": {
   "codemirror_mode": {
    "name": "ipython",
    "version": 3
   },
   "file_extension": ".py",
   "mimetype": "text/x-python",
   "name": "python",
   "nbconvert_exporter": "python",
   "pygments_lexer": "ipython3",
   "version": "3.8.3"
  }
 },
 "nbformat": 4,
 "nbformat_minor": 4
}
